{
 "cells": [
  {
   "cell_type": "code",
   "execution_count": 1,
   "id": "35bfc558",
   "metadata": {},
   "outputs": [],
   "source": [
    "import torch\n",
    "from BPE_Encoder import  token2id, detokenise,encode_prompt\n",
    "from Transformer import MLLM"
   ]
  },
  {
   "cell_type": "code",
   "execution_count": 2,
   "id": "9d3e8a67",
   "metadata": {},
   "outputs": [],
   "source": [
    "best_parameters = {'lr': 0.0008846917512346465, 'weight_decay': 0.00029475907910799643, 'dropout_percentage': 0.0010306170289606452, 'heads': 4, 'num_layers': 6, 'dim': 64, \n",
    " 'label_smoothing': 0.019019051540349757, 'pct_start': 0.35980068988151803, 'activation': 'gelu', 'ffn_internal': 4}"
   ]
  },
  {
   "cell_type": "code",
   "execution_count": null,
   "id": "1f5b6bdf",
   "metadata": {},
   "outputs": [],
   "source": [
    "model = MLLM.load_from_checkpoint(\n",
    "        \"E:/Projects/Seq2Seq/lightning_logs/version_0/checkpoints/best.ckpt\",\n",
    "        vocab=len(token2id),\n",
    "        dim=best_parameters[\"dim\"],\n",
    "        pad_idx=token2id[\"<pad>\"],\n",
    "        max_pos=512,\n",
    "        QKV_dim=best_parameters[\"dim\"] // best_parameters[\"heads\"],\n",
    "        heads=best_parameters[\"heads\"],\n",
    "        num_layers=best_parameters[\"num_layers\"],\n",
    "        dropout_percentage=best_parameters[\"dropout_percentage\"],\n",
    "        learning_rate=best_parameters[\"lr\"],\n",
    "        wd=best_parameters[\"weight_decay\"],\n",
    "        ls=best_parameters[\"label_smoothing\"],pct_start = best_parameters['pct_start'], act=best_parameters['activation'],\n",
    "        ffn_internal = best_parameters['ffn_internal'])   \n",
    "model.eval().to('cuda')                 \n"
   ]
  },
  {
   "cell_type": "code",
   "execution_count": 9,
   "id": "49cb1f4b",
   "metadata": {},
   "outputs": [
    {
     "name": "stdout",
     "output_type": "stream",
     "text": [
      "logistic regression is best for the regression and the lasso and regression\n"
     ]
    }
   ],
   "source": [
    "def generate(prompt: str,\n",
    "             max_new_tokens: int = 500,\n",
    "             temperature: float = 0.7,\n",
    "             top_k: int | None = 20) -> str:\n",
    "\n",
    "    input_ids = encode_prompt(prompt).unsqueeze(0).to('cuda')\n",
    "    generated = input_ids\n",
    "\n",
    "    with torch.no_grad():\n",
    "        for _ in range(max_new_tokens):\n",
    "            if generated.size(1) >= 1024:          \n",
    "                generated = generated[:, -1023:]   \n",
    "            logits = model(generated)[:, -1, :] / temperature\n",
    "            if top_k is not None:\n",
    "                values, _ = torch.topk(logits, top_k)\n",
    "                logits = torch.where(\n",
    "                    logits < values[:, [-1]],\n",
    "                    torch.full_like(logits, -1e10),\n",
    "                    logits,\n",
    "                )\n",
    "            probs   = torch.softmax(logits, dim=-1)\n",
    "            next_id = torch.multinomial(probs, num_samples=1)\n",
    "            if next_id.item() == token2id[\"<eos>\"]:\n",
    "                break\n",
    "            generated = torch.cat([generated, next_id], dim=1)\n",
    "    return detokenise(generated[0].tolist())\n",
    "\n",
    "\n",
    "# example usage\n",
    "prompt = \"logistic regression is best for\"\n",
    "print(generate(prompt, temperature=0.7, top_k=20))\n"
   ]
  },
  {
   "cell_type": "code",
   "execution_count": 1,
   "id": "74c6de3d",
   "metadata": {},
   "outputs": [],
   "source": [
    "vocab = []\n",
    "with open(\"E:/Projects/Seq2Seq/data/corpus/Vocab.txt\", \"r\", encoding=\"utf-8\") as f:\n",
    "    for tok in f:\n",
    "        vocab.append(tok.strip())"
   ]
  },
  {
   "cell_type": "code",
   "execution_count": 2,
   "id": "5e16ab4c",
   "metadata": {},
   "outputs": [
    {
     "data": {
      "text/plain": [
       "20030"
      ]
     },
     "execution_count": 2,
     "metadata": {},
     "output_type": "execute_result"
    }
   ],
   "source": [
    "len(vocab)"
   ]
  },
  {
   "cell_type": "code",
   "execution_count": null,
   "id": "6a78c86c",
   "metadata": {},
   "outputs": [],
   "source": []
  }
 ],
 "metadata": {
  "kernelspec": {
   "display_name": "Python 3",
   "language": "python",
   "name": "python3"
  },
  "language_info": {
   "codemirror_mode": {
    "name": "ipython",
    "version": 3
   },
   "file_extension": ".py",
   "mimetype": "text/x-python",
   "name": "python",
   "nbconvert_exporter": "python",
   "pygments_lexer": "ipython3",
   "version": "3.12.10"
  }
 },
 "nbformat": 4,
 "nbformat_minor": 5
}
